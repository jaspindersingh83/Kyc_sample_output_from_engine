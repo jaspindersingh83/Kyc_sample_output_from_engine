{
 "cells": [
  {
   "cell_type": "code",
   "execution_count": 2,
   "metadata": {
    "collapsed": false
   },
   "outputs": [
    {
     "name": "stdout",
     "output_type": "stream",
     "text": [
      "DUBLIN\n",
      "\n",
      " \n",
      "\n",
      " \n",
      "\n",
      " \n",
      "\n",
      " \n",
      "\n",
      " \n",
      "\n",
      " \n",
      "\n",
      " \n",
      "\n",
      " \n",
      "\n",
      " \n",
      "\n",
      " \n",
      "\n",
      " \n",
      "\n",
      " \n",
      "\n",
      " \n",
      "\n",
      " \n",
      "\n",
      " \n",
      "\n",
      " \n",
      "\n",
      " \n",
      "\n",
      " \n",
      "\n",
      " \n",
      "\n",
      " \n",
      "\n",
      " \n",
      "\n",
      " \n",
      "\n",
      "CUSTOMER #: 125427 381061\n",
      "CHEVROLET CADILLAC BUICK GMC INFINITI\n",
      "ACCOUNTING 4200 JOHN MONEGO coum\n",
      "DARREN cox DUBLIN CA94566\n",
      "111 CENTER COURT mmﬁiggﬁggm 91mm\n",
      "DANVILLE, CA 94505 PAGE 1 WW” 792512792549 mums: mums-2\n",
      "DCOXESMALLEOXMEDIA1C0M JEWEL“ 5:31:33; Emmmgm masmnm\n",
      "HOME: CONT:209—481‘2793 ”MW: 192mm 2qu\n",
      "BUS: CELL1209—481—2798 SERVICE ADVISORI 71040 TH MAS HANSEURY\n",
      "COLOR VEAR MAKE/MODEL VIN LICENSE MILEAGE IN I OUT TAG\n",
      "WHITE 15 CHEVROLET TAHOE lGNS C7GR215402 21379/ 1330 53045\n",
      "DEL DATE PROD DATE WARP EXP PROMISED FO NO RATE PAYMENT [NV DATE\n",
      "03JAN16 D 13:00 26A1=R17 CASH 27APR17\n",
      "HO OPENED BOOKED OPTIONS ENG:5_3 Liter SIDI\n",
      "09:48 2523121117 14:24 27APR17\n",
      "LINE OPCODE TECH TYFE A/HRs S/HRS COST SALE COMP LIST NET TOTAL\n",
      "A CUSTOMER REQUESTS PERFORM GM 7 LUEE, OTL & ETLTER CHANGE WITH TIRE\n",
      "ROTATION, TIRE PRESSURE MONITOR RESET\n",
      "CAUSE: PERFORMED MAINTENANCE.\n",
      "CONCERN CODE: 0021\n",
      "0600723 CHEVROLET 2YR/24,000 MILE MAINTENANCE:\n",
      "LOE/ROTATE/MRI\n",
      "40222 won 0.27 0.50 2195 1457 14.57 14.57\n",
      "1 19330000 (SJFILTER 430 434 0 8.60 4.34 4.34\n",
      "1 12616850 (5)5EAL 235 237 o 4.12 2.37 2.37\n",
      "3 19259437 OIL 2840 2372 0 5.23 3.59 28.72\n",
      "\n",
      "FC: 9094\n"
     ]
    }
   ],
   "source": [
    "try:\n",
    "    import Image\n",
    "except ImportError:\n",
    "    from PIL import Image\n",
    "import pytesseract\n",
    "print(pytesseract.image_to_string(Image.open('Screen Shot 2017-05-31 at 6.14.54 PM.png')))"
   ]
  },
  {
   "cell_type": "code",
   "execution_count": null,
   "metadata": {
    "collapsed": true
   },
   "outputs": [],
   "source": []
  }
 ],
 "metadata": {
  "kernelspec": {
   "display_name": "Python 3",
   "language": "python",
   "name": "python3"
  },
  "language_info": {
   "codemirror_mode": {
    "name": "ipython",
    "version": 3
   },
   "file_extension": ".py",
   "mimetype": "text/x-python",
   "name": "python",
   "nbconvert_exporter": "python",
   "pygments_lexer": "ipython3",
   "version": "3.6.0"
  }
 },
 "nbformat": 4,
 "nbformat_minor": 2
}
